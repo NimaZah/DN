{
  "nbformat": 4,
  "nbformat_minor": 0,
  "metadata": {
    "colab": {
      "name": "DARWIN.ipynb",
      "provenance": [],
      "collapsed_sections": [],
      "authorship_tag": "ABX9TyNXeSR6AsBB9Nrbl/qFQY69",
      "include_colab_link": true
    },
    "kernelspec": {
      "name": "python3",
      "display_name": "Python 3"
    },
    "language_info": {
      "name": "python"
    },
    "accelerator": "GPU"
  },
  "cells": [
    {
      "cell_type": "markdown",
      "metadata": {
        "id": "view-in-github",
        "colab_type": "text"
      },
      "source": [
        "<a href=\"https://colab.research.google.com/github/NimaZah/DN/blob/main/DARWIN.ipynb\" target=\"_parent\"><img src=\"https://colab.research.google.com/assets/colab-badge.svg\" alt=\"Open In Colab\"/></a>"
      ]
    },
    {
      "cell_type": "markdown",
      "source": [
        ""
      ],
      "metadata": {
        "id": "GA-CnemuQSKX"
      }
    },
    {
      "cell_type": "code",
      "execution_count": 22,
      "metadata": {
        "id": "59yLmcqnLW4T"
      },
      "outputs": [],
      "source": [
        "# import libraries\n",
        "\n",
        "import numpy as np\n",
        "import pandas as pd\n",
        "from sklearn.tree import DecisionTreeClassifier\n",
        "from sklearn.model_selection import train_test_split\n",
        "from sklearn.metrics import accuracy_score\n",
        "from sklearn import tree\n",
        "from sklearn.pipeline import make_pipeline\n",
        "from sklearn.preprocessing import StandardScaler\n",
        "from sklearn.model_selection import GridSearchCV\n",
        "from sklearn.svm import SVC\n",
        "from sklearn.neural_network import MLPClassifier\n",
        "from sklearn.ensemble import AdaBoostClassifier\n",
        "from sklearn.ensemble import BaggingClassifier\n",
        "from sklearn.naive_bayes import GaussianNB\n",
        "from sklearn.neighbors import KNeighborsClassifier\n",
        "from sklearn.ensemble import RandomForestClassifier\n",
        "from sklearn.model_selection import RandomizedSearchCV\n",
        "from sklearn.ensemble import VotingClassifier"
      ]
    },
    {
      "cell_type": "code",
      "source": [
        "# digest data\n",
        "\n",
        "df= pd.read_csv('https://raw.githubusercontent.com/NimaZah/DN/main/DN.csv')\n",
        "df.head()"
      ],
      "metadata": {
        "colab": {
          "base_uri": "https://localhost:8080/",
          "height": 299
        },
        "id": "Vzuz7OF1Le67",
        "outputId": "51e2bd00-9e5c-4a21-c209-3abb58b58f44"
      },
      "execution_count": 2,
      "outputs": [
        {
          "output_type": "execute_result",
          "data": {
            "text/plain": [
              "     ID  air_time1  disp_index1  gmrt_in_air1  gmrt_on_paper1  \\\n",
              "0  id_1       5160     0.000013    120.804174       86.853334   \n",
              "1  id_2      51980     0.000016    115.318238       83.448681   \n",
              "2  id_3       2600     0.000010    229.933997      172.761858   \n",
              "3  id_4       2130     0.000010    369.403342      183.193104   \n",
              "4  id_5       2310     0.000007    257.997131      111.275889   \n",
              "\n",
              "   max_x_extension1  max_y_extension1  mean_acc_in_air1  mean_acc_on_paper1  \\\n",
              "0               957              6601          0.361800            0.217459   \n",
              "1              1694              6998          0.272513            0.144880   \n",
              "2              2333              5802          0.387020            0.181342   \n",
              "3              1756              8159          0.556879            0.164502   \n",
              "4               987              4732          0.266077            0.145104   \n",
              "\n",
              "   mean_gmrt1  ...  mean_jerk_in_air25  mean_jerk_on_paper25  \\\n",
              "0  103.828754  ...            0.141434              0.024471   \n",
              "1   99.383459  ...            0.049663              0.018368   \n",
              "2  201.347928  ...            0.178194              0.017174   \n",
              "3  276.298223  ...            0.113905              0.019860   \n",
              "4  184.636510  ...            0.121782              0.020872   \n",
              "\n",
              "   mean_speed_in_air25  mean_speed_on_paper25  num_of_pendown25  paper_time25  \\\n",
              "0             5.596487               3.184589                71         40120   \n",
              "1             1.665973               0.950249               129        126700   \n",
              "2             4.000781               2.392521                74         45480   \n",
              "3             4.206746               1.613522               123         67945   \n",
              "4             3.319036               1.680629                92         37285   \n",
              "\n",
              "   pressure_mean25  pressure_var25  total_time25  class  \n",
              "0      1749.278166     296102.7676        144605      P  \n",
              "1      1504.768272     278744.2850        298640      P  \n",
              "2      1431.443492     144411.7055         79025      P  \n",
              "3      1465.843329     230184.7154        181220      P  \n",
              "4      1841.702561     158290.0255         72575      P  \n",
              "\n",
              "[5 rows x 452 columns]"
            ],
            "text/html": [
              "\n",
              "  <div id=\"df-e006d75e-e67e-474c-92ad-aee8ce5a1c49\">\n",
              "    <div class=\"colab-df-container\">\n",
              "      <div>\n",
              "<style scoped>\n",
              "    .dataframe tbody tr th:only-of-type {\n",
              "        vertical-align: middle;\n",
              "    }\n",
              "\n",
              "    .dataframe tbody tr th {\n",
              "        vertical-align: top;\n",
              "    }\n",
              "\n",
              "    .dataframe thead th {\n",
              "        text-align: right;\n",
              "    }\n",
              "</style>\n",
              "<table border=\"1\" class=\"dataframe\">\n",
              "  <thead>\n",
              "    <tr style=\"text-align: right;\">\n",
              "      <th></th>\n",
              "      <th>ID</th>\n",
              "      <th>air_time1</th>\n",
              "      <th>disp_index1</th>\n",
              "      <th>gmrt_in_air1</th>\n",
              "      <th>gmrt_on_paper1</th>\n",
              "      <th>max_x_extension1</th>\n",
              "      <th>max_y_extension1</th>\n",
              "      <th>mean_acc_in_air1</th>\n",
              "      <th>mean_acc_on_paper1</th>\n",
              "      <th>mean_gmrt1</th>\n",
              "      <th>...</th>\n",
              "      <th>mean_jerk_in_air25</th>\n",
              "      <th>mean_jerk_on_paper25</th>\n",
              "      <th>mean_speed_in_air25</th>\n",
              "      <th>mean_speed_on_paper25</th>\n",
              "      <th>num_of_pendown25</th>\n",
              "      <th>paper_time25</th>\n",
              "      <th>pressure_mean25</th>\n",
              "      <th>pressure_var25</th>\n",
              "      <th>total_time25</th>\n",
              "      <th>class</th>\n",
              "    </tr>\n",
              "  </thead>\n",
              "  <tbody>\n",
              "    <tr>\n",
              "      <th>0</th>\n",
              "      <td>id_1</td>\n",
              "      <td>5160</td>\n",
              "      <td>0.000013</td>\n",
              "      <td>120.804174</td>\n",
              "      <td>86.853334</td>\n",
              "      <td>957</td>\n",
              "      <td>6601</td>\n",
              "      <td>0.361800</td>\n",
              "      <td>0.217459</td>\n",
              "      <td>103.828754</td>\n",
              "      <td>...</td>\n",
              "      <td>0.141434</td>\n",
              "      <td>0.024471</td>\n",
              "      <td>5.596487</td>\n",
              "      <td>3.184589</td>\n",
              "      <td>71</td>\n",
              "      <td>40120</td>\n",
              "      <td>1749.278166</td>\n",
              "      <td>296102.7676</td>\n",
              "      <td>144605</td>\n",
              "      <td>P</td>\n",
              "    </tr>\n",
              "    <tr>\n",
              "      <th>1</th>\n",
              "      <td>id_2</td>\n",
              "      <td>51980</td>\n",
              "      <td>0.000016</td>\n",
              "      <td>115.318238</td>\n",
              "      <td>83.448681</td>\n",
              "      <td>1694</td>\n",
              "      <td>6998</td>\n",
              "      <td>0.272513</td>\n",
              "      <td>0.144880</td>\n",
              "      <td>99.383459</td>\n",
              "      <td>...</td>\n",
              "      <td>0.049663</td>\n",
              "      <td>0.018368</td>\n",
              "      <td>1.665973</td>\n",
              "      <td>0.950249</td>\n",
              "      <td>129</td>\n",
              "      <td>126700</td>\n",
              "      <td>1504.768272</td>\n",
              "      <td>278744.2850</td>\n",
              "      <td>298640</td>\n",
              "      <td>P</td>\n",
              "    </tr>\n",
              "    <tr>\n",
              "      <th>2</th>\n",
              "      <td>id_3</td>\n",
              "      <td>2600</td>\n",
              "      <td>0.000010</td>\n",
              "      <td>229.933997</td>\n",
              "      <td>172.761858</td>\n",
              "      <td>2333</td>\n",
              "      <td>5802</td>\n",
              "      <td>0.387020</td>\n",
              "      <td>0.181342</td>\n",
              "      <td>201.347928</td>\n",
              "      <td>...</td>\n",
              "      <td>0.178194</td>\n",
              "      <td>0.017174</td>\n",
              "      <td>4.000781</td>\n",
              "      <td>2.392521</td>\n",
              "      <td>74</td>\n",
              "      <td>45480</td>\n",
              "      <td>1431.443492</td>\n",
              "      <td>144411.7055</td>\n",
              "      <td>79025</td>\n",
              "      <td>P</td>\n",
              "    </tr>\n",
              "    <tr>\n",
              "      <th>3</th>\n",
              "      <td>id_4</td>\n",
              "      <td>2130</td>\n",
              "      <td>0.000010</td>\n",
              "      <td>369.403342</td>\n",
              "      <td>183.193104</td>\n",
              "      <td>1756</td>\n",
              "      <td>8159</td>\n",
              "      <td>0.556879</td>\n",
              "      <td>0.164502</td>\n",
              "      <td>276.298223</td>\n",
              "      <td>...</td>\n",
              "      <td>0.113905</td>\n",
              "      <td>0.019860</td>\n",
              "      <td>4.206746</td>\n",
              "      <td>1.613522</td>\n",
              "      <td>123</td>\n",
              "      <td>67945</td>\n",
              "      <td>1465.843329</td>\n",
              "      <td>230184.7154</td>\n",
              "      <td>181220</td>\n",
              "      <td>P</td>\n",
              "    </tr>\n",
              "    <tr>\n",
              "      <th>4</th>\n",
              "      <td>id_5</td>\n",
              "      <td>2310</td>\n",
              "      <td>0.000007</td>\n",
              "      <td>257.997131</td>\n",
              "      <td>111.275889</td>\n",
              "      <td>987</td>\n",
              "      <td>4732</td>\n",
              "      <td>0.266077</td>\n",
              "      <td>0.145104</td>\n",
              "      <td>184.636510</td>\n",
              "      <td>...</td>\n",
              "      <td>0.121782</td>\n",
              "      <td>0.020872</td>\n",
              "      <td>3.319036</td>\n",
              "      <td>1.680629</td>\n",
              "      <td>92</td>\n",
              "      <td>37285</td>\n",
              "      <td>1841.702561</td>\n",
              "      <td>158290.0255</td>\n",
              "      <td>72575</td>\n",
              "      <td>P</td>\n",
              "    </tr>\n",
              "  </tbody>\n",
              "</table>\n",
              "<p>5 rows × 452 columns</p>\n",
              "</div>\n",
              "      <button class=\"colab-df-convert\" onclick=\"convertToInteractive('df-e006d75e-e67e-474c-92ad-aee8ce5a1c49')\"\n",
              "              title=\"Convert this dataframe to an interactive table.\"\n",
              "              style=\"display:none;\">\n",
              "        \n",
              "  <svg xmlns=\"http://www.w3.org/2000/svg\" height=\"24px\"viewBox=\"0 0 24 24\"\n",
              "       width=\"24px\">\n",
              "    <path d=\"M0 0h24v24H0V0z\" fill=\"none\"/>\n",
              "    <path d=\"M18.56 5.44l.94 2.06.94-2.06 2.06-.94-2.06-.94-.94-2.06-.94 2.06-2.06.94zm-11 1L8.5 8.5l.94-2.06 2.06-.94-2.06-.94L8.5 2.5l-.94 2.06-2.06.94zm10 10l.94 2.06.94-2.06 2.06-.94-2.06-.94-.94-2.06-.94 2.06-2.06.94z\"/><path d=\"M17.41 7.96l-1.37-1.37c-.4-.4-.92-.59-1.43-.59-.52 0-1.04.2-1.43.59L10.3 9.45l-7.72 7.72c-.78.78-.78 2.05 0 2.83L4 21.41c.39.39.9.59 1.41.59.51 0 1.02-.2 1.41-.59l7.78-7.78 2.81-2.81c.8-.78.8-2.07 0-2.86zM5.41 20L4 18.59l7.72-7.72 1.47 1.35L5.41 20z\"/>\n",
              "  </svg>\n",
              "      </button>\n",
              "      \n",
              "  <style>\n",
              "    .colab-df-container {\n",
              "      display:flex;\n",
              "      flex-wrap:wrap;\n",
              "      gap: 12px;\n",
              "    }\n",
              "\n",
              "    .colab-df-convert {\n",
              "      background-color: #E8F0FE;\n",
              "      border: none;\n",
              "      border-radius: 50%;\n",
              "      cursor: pointer;\n",
              "      display: none;\n",
              "      fill: #1967D2;\n",
              "      height: 32px;\n",
              "      padding: 0 0 0 0;\n",
              "      width: 32px;\n",
              "    }\n",
              "\n",
              "    .colab-df-convert:hover {\n",
              "      background-color: #E2EBFA;\n",
              "      box-shadow: 0px 1px 2px rgba(60, 64, 67, 0.3), 0px 1px 3px 1px rgba(60, 64, 67, 0.15);\n",
              "      fill: #174EA6;\n",
              "    }\n",
              "\n",
              "    [theme=dark] .colab-df-convert {\n",
              "      background-color: #3B4455;\n",
              "      fill: #D2E3FC;\n",
              "    }\n",
              "\n",
              "    [theme=dark] .colab-df-convert:hover {\n",
              "      background-color: #434B5C;\n",
              "      box-shadow: 0px 1px 3px 1px rgba(0, 0, 0, 0.15);\n",
              "      filter: drop-shadow(0px 1px 2px rgba(0, 0, 0, 0.3));\n",
              "      fill: #FFFFFF;\n",
              "    }\n",
              "  </style>\n",
              "\n",
              "      <script>\n",
              "        const buttonEl =\n",
              "          document.querySelector('#df-e006d75e-e67e-474c-92ad-aee8ce5a1c49 button.colab-df-convert');\n",
              "        buttonEl.style.display =\n",
              "          google.colab.kernel.accessAllowed ? 'block' : 'none';\n",
              "\n",
              "        async function convertToInteractive(key) {\n",
              "          const element = document.querySelector('#df-e006d75e-e67e-474c-92ad-aee8ce5a1c49');\n",
              "          const dataTable =\n",
              "            await google.colab.kernel.invokeFunction('convertToInteractive',\n",
              "                                                     [key], {});\n",
              "          if (!dataTable) return;\n",
              "\n",
              "          const docLinkHtml = 'Like what you see? Visit the ' +\n",
              "            '<a target=\"_blank\" href=https://colab.research.google.com/notebooks/data_table.ipynb>data table notebook</a>'\n",
              "            + ' to learn more about interactive tables.';\n",
              "          element.innerHTML = '';\n",
              "          dataTable['output_type'] = 'display_data';\n",
              "          await google.colab.output.renderOutput(dataTable, element);\n",
              "          const docLink = document.createElement('div');\n",
              "          docLink.innerHTML = docLinkHtml;\n",
              "          element.appendChild(docLink);\n",
              "        }\n",
              "      </script>\n",
              "    </div>\n",
              "  </div>\n",
              "  "
            ]
          },
          "metadata": {},
          "execution_count": 2
        }
      ]
    },
    {
      "cell_type": "code",
      "source": [
        "# identify the target\n",
        "\n",
        "X = df.drop(['class', 'ID'], axis=1)\n",
        "y = df['class']"
      ],
      "metadata": {
        "id": "cZU-BinmLisb"
      },
      "execution_count": 3,
      "outputs": []
    },
    {
      "cell_type": "code",
      "source": [
        "# Split the data into training and testing sets\n",
        "\n",
        "(X_train, X_test, y_train, y_test) = train_test_split(X, y,\n",
        "        test_size=0.2, random_state=1)"
      ],
      "metadata": {
        "id": "ro6THQecLi3B"
      },
      "execution_count": 4,
      "outputs": []
    },
    {
      "cell_type": "markdown",
      "source": [
        "# Decision Tree Classifiier"
      ],
      "metadata": {
        "id": "WK4FRHLihmxY"
      }
    },
    {
      "cell_type": "code",
      "source": [
        "# Create the pipeline\n",
        "\n",
        "pipe = make_pipeline(StandardScaler(), DecisionTreeClassifier())\n",
        "\n",
        "# Fit the pipeline to the training data\n",
        "\n",
        "pipe.fit(X_train, y_train)\n",
        "\n",
        "# Predict the labels of the test data\n",
        "\n",
        "y_pred = pipe.predict(X_test)\n",
        "\n",
        "# Evaluate the accuracy\n",
        "\n",
        "acc = accuracy_score(y_test, y_pred)\n",
        "print(acc)"
      ],
      "metadata": {
        "colab": {
          "base_uri": "https://localhost:8080/"
        },
        "id": "I4_UM8vbLmXg",
        "outputId": "35b083a6-74fa-4e1c-f6a4-51555516d261"
      },
      "execution_count": 5,
      "outputs": [
        {
          "output_type": "stream",
          "name": "stdout",
          "text": [
            "0.7714285714285715\n"
          ]
        }
      ]
    },
    {
      "cell_type": "code",
      "source": [
        "# Create the hyperparameter grid\n",
        "\n",
        "param_grid = {'decisiontreeclassifier__max_depth': [1, 2, 3, 4, 5],\n",
        "              'decisiontreeclassifier__min_samples_leaf': [0.12, 0.14,\n",
        "              0.16, 0.18]}\n",
        "\n",
        "# Instantiate the GridSearchCV object\n",
        "\n",
        "grid = GridSearchCV(pipe, param_grid, cv=5)\n",
        "\n",
        "# Fit it to the training data\n",
        "\n",
        "grid.fit(X_train, y_train)\n",
        "\n",
        "# Print the optimal parameters and best score\n",
        "\n",
        "print('Tuned Decision Tree Parameter: {}'.format(grid.best_params_))\n",
        "print('Tuned Decision Tree Accuracy: {}'.format(grid.best_score_))"
      ],
      "metadata": {
        "colab": {
          "base_uri": "https://localhost:8080/"
        },
        "id": "Kki9MuQnQGJZ",
        "outputId": "cb4a50f7-b108-47d4-d099-c6325c70a8c2"
      },
      "execution_count": 6,
      "outputs": [
        {
          "output_type": "stream",
          "name": "stdout",
          "text": [
            "Tuned Decision Tree Parameter: {'decisiontreeclassifier__max_depth': 1, 'decisiontreeclassifier__min_samples_leaf': 0.12}\n",
            "Tuned Decision Tree Accuracy: 0.8351851851851851\n"
          ]
        }
      ]
    },
    {
      "cell_type": "markdown",
      "source": [
        "# BaggingClassifier"
      ],
      "metadata": {
        "id": "-7l3nkCmj4mr"
      }
    },
    {
      "cell_type": "code",
      "source": [
        "param_grid = {\n",
        "    'n_estimators': [100, 200, 300, 400, 500],\n",
        "    'max_samples': [0.5, 0.7, 0.9],\n",
        "    'max_features': [0.5, 0.7, 0.9],\n",
        "    'bootstrap': [True],\n",
        "    'bootstrap_features': [True],\n",
        "    'random_state': [0],\n",
        "    'n_jobs': [-1],\n",
        "    }\n",
        "\n",
        "# Instantiate the GridSearchCV object\n",
        "\n",
        "grid = RandomizedSearchCV(BaggingClassifier(), param_grid, cv=5)\n",
        "\n",
        "# Fit it to the training data\n",
        "\n",
        "grid.fit(X_train, y_train)\n",
        "\n",
        "# Print the optimal parameters and best score\n",
        "\n",
        "print('Tuned Bagging Parameter: {}'.format(grid.best_params_))\n",
        "print('Tuned Bagging Accuracy: {}'.format(grid.best_score_))\n"
      ],
      "metadata": {
        "colab": {
          "base_uri": "https://localhost:8080/"
        },
        "id": "x59WtJu4ic1Q",
        "outputId": "c02b4800-9f91-4b1e-e559-377ee0c2c2c7"
      },
      "execution_count": 7,
      "outputs": [
        {
          "output_type": "stream",
          "name": "stdout",
          "text": [
            "Tuned Bagging Parameter: {'random_state': 0, 'n_jobs': -1, 'n_estimators': 100, 'max_samples': 0.5, 'max_features': 0.5, 'bootstrap_features': True, 'bootstrap': True}\n",
            "Tuned Bagging Accuracy: 0.8634920634920636\n"
          ]
        }
      ]
    },
    {
      "cell_type": "markdown",
      "source": [
        "# Adaboost classifier with the base classifier, decision tree"
      ],
      "metadata": {
        "id": "UqexOghBkBf6"
      }
    },
    {
      "cell_type": "code",
      "source": [
        "clf = AdaBoostClassifier(base_estimator=DecisionTreeClassifier(),\n",
        "                         n_estimators=100)\n",
        "\n",
        "# Fit the classifier to the training data\n",
        "\n",
        "clf.fit(X_train, y_train)\n",
        "\n",
        "# Predict the labels of the test data\n",
        "\n",
        "y_pred = clf.predict(X_test)\n",
        "\n",
        "# Evaluate the accuracy of the model\n",
        "\n",
        "acc = accuracy_score(y_test, y_pred)\n",
        "print(acc)"
      ],
      "metadata": {
        "colab": {
          "base_uri": "https://localhost:8080/"
        },
        "id": "tuhGrhrXjIrL",
        "outputId": "d3850b47-6d05-4ffc-a7f0-26255ba9e80b"
      },
      "execution_count": 8,
      "outputs": [
        {
          "output_type": "stream",
          "name": "stdout",
          "text": [
            "0.7714285714285715\n"
          ]
        }
      ]
    },
    {
      "cell_type": "code",
      "source": [
        "# Visualize the decision tree\n",
        "clf = DecisionTreeClassifier(max_depth=3, min_samples_leaf=0.12)\n",
        "clf.fit(X_train, y_train)\n",
        "tree.plot_tree(clf)"
      ],
      "metadata": {
        "id": "z-spPcEPEUex",
        "colab": {
          "base_uri": "https://localhost:8080/",
          "height": 404
        },
        "outputId": "4edf1695-cf72-4e27-b1d1-9acd9bae4d8e"
      },
      "execution_count": 9,
      "outputs": [
        {
          "output_type": "execute_result",
          "data": {
            "text/plain": [
              "[Text(0.4444444444444444, 0.875, 'X[413] <= 8490.0\\ngini = 0.5\\nsamples = 139\\nvalue = [68, 71]'),\n",
              " Text(0.2222222222222222, 0.625, 'X[302] <= 16915.0\\ngini = 0.206\\nsamples = 60\\nvalue = [53, 7]'),\n",
              " Text(0.1111111111111111, 0.375, 'gini = 0.0\\nsamples = 41\\nvalue = [41, 0]'),\n",
              " Text(0.3333333333333333, 0.375, 'gini = 0.465\\nsamples = 19\\nvalue = [12, 7]'),\n",
              " Text(0.6666666666666666, 0.625, 'X[140] <= 2785.0\\ngini = 0.308\\nsamples = 79\\nvalue = [15, 64]'),\n",
              " Text(0.5555555555555556, 0.375, 'gini = 0.499\\nsamples = 23\\nvalue = [11, 12]'),\n",
              " Text(0.7777777777777778, 0.375, 'X[349] <= 0.165\\ngini = 0.133\\nsamples = 56\\nvalue = [4, 52]'),\n",
              " Text(0.6666666666666666, 0.125, 'gini = 0.0\\nsamples = 39\\nvalue = [0, 39]'),\n",
              " Text(0.8888888888888888, 0.125, 'gini = 0.36\\nsamples = 17\\nvalue = [4, 13]')]"
            ]
          },
          "metadata": {},
          "execution_count": 9
        },
        {
          "output_type": "display_data",
          "data": {
            "text/plain": [
              "<Figure size 432x288 with 1 Axes>"
            ],
            "image/png": "[encoded data removed]"
          },
          "metadata": {
            "needs_background": "light"
          }
        }
      ]
    },
    {
      "cell_type": "code",
      "source": [
        "# plot the top 5 features\n",
        "\n",
        "import matplotlib.pyplot as plt\n",
        "import seaborn as sns\n",
        "\n",
        "# Set the style\n",
        "\n",
        "sns.set_style('white')\n",
        "plt.rcParams['figure.figsize'] = (12, 8)\n",
        "\n",
        "# Create a dataframe with the feature importances\n",
        "\n",
        "feature_importances = pd.DataFrame(clf.feature_importances_,\n",
        "                                   index=X_train.columns,\n",
        "                                   columns=['importance'\n",
        "                                   ]).sort_values('importance',\n",
        "        ascending=False)\n",
        "\n",
        "# Plot the feature importances\n",
        "\n",
        "feature_importances.head(5).plot(kind='barh', color='lightgreen')\n",
        "plt.title('Feature Importance')\n",
        "plt.show()"
      ],
      "metadata": {
        "colab": {
          "base_uri": "https://localhost:8080/",
          "height": 499
        },
        "id": "kl1xy6ISISzc",
        "outputId": "6bcb6e70-5aa8-4e00-9a41-484389b19403"
      },
      "execution_count": null,
      "outputs": [
        {
          "output_type": "display_data",
          "data": {
            "text/plain": [
              "<Figure size 864x576 with 1 Axes>"
            ],
            "image/png": "[encoded data removed]"
          },
          "metadata": {}
        }
      ]
    },
    {
      "cell_type": "markdown",
      "source": [
        "# Random Forest Classifier"
      ],
      "metadata": {
        "id": "HYyA_OLVjRM0"
      }
    },
    {
      "cell_type": "code",
      "source": [
        "# Create the hyperparameter grid\n",
        "\n",
        "param_grid = {\n",
        "    'n_estimators': [100, 200, 300, 400, 500],\n",
        "    'max_depth': [1, 2, 3, 4, 5],\n",
        "    'min_samples_leaf': [0.12, 0.14, 0.16, 0.18],\n",
        "    'random_state': [0],\n",
        "    'n_jobs': [-1],\n",
        "    'oob_score': [True],\n",
        "    'bootstrap': [True],\n",
        "    }\n",
        "\n",
        "grid = RandomizedSearchCV(RandomForestClassifier(), param_grid, cv=5)\n",
        "\n",
        "# Fit it to the training data\n",
        "\n",
        "grid.fit(X_train, y_train)\n",
        "\n",
        "# Print the optimal parameters and best score\n",
        "\n",
        "print('Tuned Random Forest Parameter: {}'.format(grid.best_params_))\n",
        "print('Tuned Random Forest Accuracy: {}'.format(grid.best_score_))\n"
      ],
      "metadata": {
        "colab": {
          "base_uri": "https://localhost:8080/"
        },
        "id": "rFTPyr4QTbst",
        "outputId": "e10a33f3-4240-45db-a876-e6700d9fb1d5"
      },
      "execution_count": 17,
      "outputs": [
        {
          "output_type": "stream",
          "name": "stdout",
          "text": [
            "Tuned Random Forest Parameter: {'random_state': 0, 'oob_score': True, 'n_jobs': -1, 'n_estimators': 200, 'min_samples_leaf': 0.14, 'max_depth': 3, 'bootstrap': True}\n",
            "Tuned Random Forest Accuracy: 0.8706349206349205\n"
          ]
        }
      ]
    },
    {
      "cell_type": "markdown",
      "source": [
        "# KNN Classifier"
      ],
      "metadata": {
        "id": "S5JxFVGJkeuC"
      }
    },
    {
      "cell_type": "code",
      "source": [
        "# -*- coding: utf-8 -*-\n",
        "param_grid = {\n",
        "    'n_neighbors': [\n",
        "        1,\n",
        "        2,\n",
        "        3,\n",
        "        4,\n",
        "        5,\n",
        "        6,\n",
        "        7,\n",
        "        8,\n",
        "        9,\n",
        "        10,\n",
        "        ],\n",
        "    'weights': ['uniform', 'distance'],\n",
        "    'metric': ['euclidean', 'manhattan'],\n",
        "    'algorithm': ['auto', 'ball_tree', 'kd_tree', 'brute'],\n",
        "    }\n",
        "\n",
        "# Instantiate the GridSearchCV object\n",
        "\n",
        "grid = GridSearchCV(KNeighborsClassifier(), param_grid, cv=5)\n",
        "\n",
        "# Fit it to the training data\n",
        "\n",
        "grid.fit(X_train, y_train)\n",
        "\n",
        "# Print the optimal parameters and best score\n",
        "\n",
        "print('Tuned KNN Parameter: {}'.format(grid.best_params_))\n",
        "print('Tuned KNN Accuracy: {}'.format(grid.best_score_))\n"
      ],
      "metadata": {
        "colab": {
          "base_uri": "https://localhost:8080/"
        },
        "id": "v_SWIdrDUBwY",
        "outputId": "06f23214-a200-4d8d-b35a-7fb49a0a0f73"
      },
      "execution_count": 18,
      "outputs": [
        {
          "output_type": "stream",
          "name": "stdout",
          "text": [
            "Tuned KNN Parameter: {'algorithm': 'auto', 'metric': 'manhattan', 'n_neighbors': 4, 'weights': 'distance'}\n",
            "Tuned KNN Accuracy: 0.7333333333333333\n"
          ]
        }
      ]
    },
    {
      "cell_type": "markdown",
      "source": [
        "# Gaussian Naive Bayes"
      ],
      "metadata": {
        "id": "RDz_IpoFneD9"
      }
    },
    {
      "cell_type": "code",
      "source": [
        "# Create the hyperparameter grid\n",
        "\n",
        "param_grid = {'var_smoothing': [\n",
        "    1e-9,\n",
        "    1e-8,\n",
        "    1e-7,\n",
        "    1e-6,\n",
        "    1e-5,\n",
        "    1e-4,\n",
        "    1e-3,\n",
        "    1e-2,\n",
        "    1e-1,\n",
        "    ]}\n",
        "\n",
        "# Instantiate the GridSearchCV object\n",
        "\n",
        "grid = RandomizedSearchCV(GaussianNB(), param_grid, cv=5)\n",
        "\n",
        "# Fit it to the training data\n",
        "\n",
        "grid.fit(X_train, y_train)\n",
        "\n",
        "# Print the optimal parameters and best score\n",
        "\n",
        "print('Tuned GNB Parameter: {}'.format(grid.best_params_))\n",
        "print('Tuned GNB Accuracy: {}'.format(grid.best_score_))\n"
      ],
      "metadata": {
        "colab": {
          "base_uri": "https://localhost:8080/"
        },
        "id": "Uk8tWrb8UjHv",
        "outputId": "41fb3ecb-6295-49e7-920a-43de053b7a1b"
      },
      "execution_count": 19,
      "outputs": [
        {
          "output_type": "stream",
          "name": "stderr",
          "text": [
            "/usr/local/lib/python3.7/dist-packages/sklearn/model_selection/_search.py:296: UserWarning: The total space of parameters 9 is smaller than n_iter=10. Running 9 iterations. For exhaustive searches, use GridSearchCV.\n",
            "  UserWarning,\n"
          ]
        },
        {
          "output_type": "stream",
          "name": "stdout",
          "text": [
            "Tuned GNB Parameter: {'var_smoothing': 1e-06}\n",
            "Tuned GNB Accuracy: 0.8563492063492063\n"
          ]
        }
      ]
    },
    {
      "cell_type": "markdown",
      "source": [
        "# Multi-layer Perceptron Classifier"
      ],
      "metadata": {
        "id": "35v71RSwn2mV"
      }
    },
    {
      "cell_type": "code",
      "source": [
        "# Create the hyperparameter grid\n",
        "\n",
        "param_grid = {\n",
        "    'hidden_layer_sizes': [(10, ), (50, ), (100, )],\n",
        "    'activation': ['identity', 'logistic', 'tanh', 'relu'],\n",
        "    'solver': ['lbfgs', 'sgd', 'adam'],\n",
        "    'alpha': [0.0001, 0.05],\n",
        "    'learning_rate': ['constant', 'invscaling', 'adaptive'],\n",
        "    'random_state': [0],\n",
        "    }\n",
        "\n",
        "# Instantiate the GridSearchCV object\n",
        "\n",
        "grid = RandomizedSearchCV(MLPClassifier(), param_grid, cv=5)\n",
        "\n",
        "# Fit it to the training data\n",
        "\n",
        "grid.fit(X_train, y_train)"
      ],
      "metadata": {
        "id": "ZFZb9qhwYhRd"
      },
      "execution_count": null,
      "outputs": []
    },
    {
      "cell_type": "code",
      "source": [
        "print(\"Tuned LVQ Parameter: {}\".format(grid.best_params_))\n",
        "print(\"Tuned LVQ Accuracy: {}\".format(grid.best_score_))"
      ],
      "metadata": {
        "colab": {
          "base_uri": "https://localhost:8080/"
        },
        "id": "MhKzALbta-II",
        "outputId": "e11961ce-68dc-4d13-bec0-ea1e25dfec7e"
      },
      "execution_count": null,
      "outputs": [
        {
          "output_type": "stream",
          "name": "stdout",
          "text": [
            "Tuned LVQ Parameter: {'solver': 'lbfgs', 'random_state': 0, 'learning_rate': 'invscaling', 'hidden_layer_sizes': (100,), 'alpha': 0.05, 'activation': 'logistic'}\n",
            "Tuned LVQ Accuracy: 0.8129629629629628\n"
          ]
        }
      ]
    },
    {
      "cell_type": "markdown",
      "source": [
        "# Support Vector Machine"
      ],
      "metadata": {
        "id": "_KzYLpeNZuvC"
      }
    },
    {
      "cell_type": "code",
      "source": [
        "# Create the hyperparameter grid\n",
        "\n",
        "param_grid = {\n",
        "    'C': [0.1, 1, 10, 100],\n",
        "    'gamma': [1, 0.1, 0.01, 0.001],\n",
        "    'kernel': ['rbf'],\n",
        "    'random_state': [0],\n",
        "    'probability': [True],\n",
        "    'decision_function_shape': ['ovo', 'ovr'],\n",
        "    'shrinking': [True],\n",
        "    }\n",
        "\n",
        "# Instantiate the RandomizedSearchCV object\n",
        "\n",
        "grid = GridSearchCV(SVC(), param_grid, cv=5)\n",
        "\n",
        "# Fit it to the training data\n",
        "\n",
        "grid.fit(X_train, y_train)\n",
        "\n",
        "# Print the optimal parameters and best score\n",
        "\n",
        "print('Tuned SVM Parameter: {}'.format(grid.best_params_))\n",
        "print('Tuned SVM Accuracy: {}'.format(grid.best_score_))\n"
      ],
      "metadata": {
        "colab": {
          "base_uri": "https://localhost:8080/"
        },
        "id": "TLFb2FHOpgRP",
        "outputId": "e426bf97-3e5d-4ce1-9923-be34bd40065f"
      },
      "execution_count": 21,
      "outputs": [
        {
          "output_type": "stream",
          "name": "stdout",
          "text": [
            "Tuned SVM Parameter: {'C': 0.1, 'decision_function_shape': 'ovo', 'gamma': 1, 'kernel': 'rbf', 'probability': True, 'random_state': 0, 'shrinking': True}\n",
            "Tuned SVM Accuracy: 0.5108465608465609\n"
          ]
        }
      ]
    },
    {
      "cell_type": "code",
      "source": [
        "# create a table the summarize the results\n",
        "\n",
        "results = pd.DataFrame({'Model': [\n",
        "    'Decision Tree',\n",
        "    'Bagging',\n",
        "    'Adaboost',\n",
        "    'Random Forest',\n",
        "    'KNN',\n",
        "    'Gaussian Naive Bayes',\n",
        "    'Multi-layer Perceptron Classifier',\n",
        "    'Support Vector Machine',\n",
        "    ], 'Accuracy': [\n",
        "    0.83,\n",
        "    0.86,\n",
        "    0.77,\n",
        "    0.87,\n",
        "    0.73,\n",
        "    0.85,\n",
        "    0.81,\n",
        "    0.51,\n",
        "    ]})\n",
        "result_df = results.sort_values(by='Accuracy', ascending=False)\n",
        "result_df = result_df.set_index('Accuracy')\n",
        "result_df.head(9)"
      ],
      "metadata": {
        "id": "1L1NIHClrTIV",
        "colab": {
          "base_uri": "https://localhost:8080/",
          "height": 331
        },
        "outputId": "6f3e2633-6921-46ef-94b2-db03f947f9bc"
      },
      "execution_count": 10,
      "outputs": [
        {
          "output_type": "execute_result",
          "data": {
            "text/plain": [
              "                                      Model\n",
              "Accuracy                                   \n",
              "0.87                          Random Forest\n",
              "0.86                                Bagging\n",
              "0.85                   Gaussian Naive Bayes\n",
              "0.83                          Decision Tree\n",
              "0.81      Multi-layer Perceptron Classifier\n",
              "0.77                               Adaboost\n",
              "0.73                                    KNN\n",
              "0.51                 Support Vector Machine"
            ],
            "text/html": [
              "\n",
              "  <div id=\"df-cb6aff74-80c7-4b49-a67e-976ddd59363e\">\n",
              "    <div class=\"colab-df-container\">\n",
              "      <div>\n",
              "<style scoped>\n",
              "    .dataframe tbody tr th:only-of-type {\n",
              "        vertical-align: middle;\n",
              "    }\n",
              "\n",
              "    .dataframe tbody tr th {\n",
              "        vertical-align: top;\n",
              "    }\n",
              "\n",
              "    .dataframe thead th {\n",
              "        text-align: right;\n",
              "    }\n",
              "</style>\n",
              "<table border=\"1\" class=\"dataframe\">\n",
              "  <thead>\n",
              "    <tr style=\"text-align: right;\">\n",
              "      <th></th>\n",
              "      <th>Model</th>\n",
              "    </tr>\n",
              "    <tr>\n",
              "      <th>Accuracy</th>\n",
              "      <th></th>\n",
              "    </tr>\n",
              "  </thead>\n",
              "  <tbody>\n",
              "    <tr>\n",
              "      <th>0.87</th>\n",
              "      <td>Random Forest</td>\n",
              "    </tr>\n",
              "    <tr>\n",
              "      <th>0.86</th>\n",
              "      <td>Bagging</td>\n",
              "    </tr>\n",
              "    <tr>\n",
              "      <th>0.85</th>\n",
              "      <td>Gaussian Naive Bayes</td>\n",
              "    </tr>\n",
              "    <tr>\n",
              "      <th>0.83</th>\n",
              "      <td>Decision Tree</td>\n",
              "    </tr>\n",
              "    <tr>\n",
              "      <th>0.81</th>\n",
              "      <td>Multi-layer Perceptron Classifier</td>\n",
              "    </tr>\n",
              "    <tr>\n",
              "      <th>0.77</th>\n",
              "      <td>Adaboost</td>\n",
              "    </tr>\n",
              "    <tr>\n",
              "      <th>0.73</th>\n",
              "      <td>KNN</td>\n",
              "    </tr>\n",
              "    <tr>\n",
              "      <th>0.51</th>\n",
              "      <td>Support Vector Machine</td>\n",
              "    </tr>\n",
              "  </tbody>\n",
              "</table>\n",
              "</div>\n",
              "      <button class=\"colab-df-convert\" onclick=\"convertToInteractive('df-cb6aff74-80c7-4b49-a67e-976ddd59363e')\"\n",
              "              title=\"Convert this dataframe to an interactive table.\"\n",
              "              style=\"display:none;\">\n",
              "        \n",
              "  <svg xmlns=\"http://www.w3.org/2000/svg\" height=\"24px\"viewBox=\"0 0 24 24\"\n",
              "       width=\"24px\">\n",
              "    <path d=\"M0 0h24v24H0V0z\" fill=\"none\"/>\n",
              "    <path d=\"M18.56 5.44l.94 2.06.94-2.06 2.06-.94-2.06-.94-.94-2.06-.94 2.06-2.06.94zm-11 1L8.5 8.5l.94-2.06 2.06-.94-2.06-.94L8.5 2.5l-.94 2.06-2.06.94zm10 10l.94 2.06.94-2.06 2.06-.94-2.06-.94-.94-2.06-.94 2.06-2.06.94z\"/><path d=\"M17.41 7.96l-1.37-1.37c-.4-.4-.92-.59-1.43-.59-.52 0-1.04.2-1.43.59L10.3 9.45l-7.72 7.72c-.78.78-.78 2.05 0 2.83L4 21.41c.39.39.9.59 1.41.59.51 0 1.02-.2 1.41-.59l7.78-7.78 2.81-2.81c.8-.78.8-2.07 0-2.86zM5.41 20L4 18.59l7.72-7.72 1.47 1.35L5.41 20z\"/>\n",
              "  </svg>\n",
              "      </button>\n",
              "      \n",
              "  <style>\n",
              "    .colab-df-container {\n",
              "      display:flex;\n",
              "      flex-wrap:wrap;\n",
              "      gap: 12px;\n",
              "    }\n",
              "\n",
              "    .colab-df-convert {\n",
              "      background-color: #E8F0FE;\n",
              "      border: none;\n",
              "      border-radius: 50%;\n",
              "      cursor: pointer;\n",
              "      display: none;\n",
              "      fill: #1967D2;\n",
              "      height: 32px;\n",
              "      padding: 0 0 0 0;\n",
              "      width: 32px;\n",
              "    }\n",
              "\n",
              "    .colab-df-convert:hover {\n",
              "      background-color: #E2EBFA;\n",
              "      box-shadow: 0px 1px 2px rgba(60, 64, 67, 0.3), 0px 1px 3px 1px rgba(60, 64, 67, 0.15);\n",
              "      fill: #174EA6;\n",
              "    }\n",
              "\n",
              "    [theme=dark] .colab-df-convert {\n",
              "      background-color: #3B4455;\n",
              "      fill: #D2E3FC;\n",
              "    }\n",
              "\n",
              "    [theme=dark] .colab-df-convert:hover {\n",
              "      background-color: #434B5C;\n",
              "      box-shadow: 0px 1px 3px 1px rgba(0, 0, 0, 0.15);\n",
              "      filter: drop-shadow(0px 1px 2px rgba(0, 0, 0, 0.3));\n",
              "      fill: #FFFFFF;\n",
              "    }\n",
              "  </style>\n",
              "\n",
              "      <script>\n",
              "        const buttonEl =\n",
              "          document.querySelector('#df-cb6aff74-80c7-4b49-a67e-976ddd59363e button.colab-df-convert');\n",
              "        buttonEl.style.display =\n",
              "          google.colab.kernel.accessAllowed ? 'block' : 'none';\n",
              "\n",
              "        async function convertToInteractive(key) {\n",
              "          const element = document.querySelector('#df-cb6aff74-80c7-4b49-a67e-976ddd59363e');\n",
              "          const dataTable =\n",
              "            await google.colab.kernel.invokeFunction('convertToInteractive',\n",
              "                                                     [key], {});\n",
              "          if (!dataTable) return;\n",
              "\n",
              "          const docLinkHtml = 'Like what you see? Visit the ' +\n",
              "            '<a target=\"_blank\" href=https://colab.research.google.com/notebooks/data_table.ipynb>data table notebook</a>'\n",
              "            + ' to learn more about interactive tables.';\n",
              "          element.innerHTML = '';\n",
              "          dataTable['output_type'] = 'display_data';\n",
              "          await google.colab.output.renderOutput(dataTable, element);\n",
              "          const docLink = document.createElement('div');\n",
              "          docLink.innerHTML = docLinkHtml;\n",
              "          element.appendChild(docLink);\n",
              "        }\n",
              "      </script>\n",
              "    </div>\n",
              "  </div>\n",
              "  "
            ]
          },
          "metadata": {},
          "execution_count": 10
        }
      ]
    },
    {
      "cell_type": "code",
      "source": [
        "# Visualize the accuracy of the models\n",
        "\n",
        "models = [\n",
        "    'Decision Tree',\n",
        "    'Bagging',\n",
        "    'Adaboost',\n",
        "    'Random Forest',\n",
        "    'KNN',\n",
        "    'Gaussian Naive Bayes',\n",
        "    'Multi-layer Perceptron Classifier',\n",
        "    'Support Vector Machine',\n",
        "    ]\n",
        "accuracy = [\n",
        "    0.83,\n",
        "    0.86,\n",
        "    0.77,\n",
        "    0.87,\n",
        "    0.73,\n",
        "    0.85,\n",
        "    0.81,\n",
        "    0.51,\n",
        "    ]\n",
        "\n",
        "plt.figure(figsize=(10,5))\n",
        "plt.bar(models, accuracy)\n",
        "plt.xlabel('Models')\n",
        "plt.ylabel('Accuracy')\n",
        "plt.title('Accuracy of the models')\n",
        "plt.xticks(rotation=90)\n",
        "plt.grid()\n",
        "plt.show()"
      ],
      "metadata": {
        "id": "4g6--KEBqwrP",
        "colab": {
          "base_uri": "https://localhost:8080/",
          "height": 499
        },
        "outputId": "04fe6457-809a-4b12-bd39-c9ef69768ad5"
      },
      "execution_count": 16,
      "outputs": [
        {
          "output_type": "display_data",
          "data": {
            "text/plain": [
              "<Figure size 720x360 with 1 Axes>"
            ],
            "image/png": "[encoded data removed]"
          },
          "metadata": {
            "needs_background": "light"
          }
        }
      ]
    },
    {
      "cell_type": "code",
      "source": [
        "vc = VotingClassifier(estimators=[\n",
        "    ('dt', DecisionTreeClassifier(max_depth=4, min_samples_leaf=0.16)),\n",
        "    ('rf', RandomForestClassifier(\n",
        "        n_estimators=500,\n",
        "        max_depth=5,\n",
        "        min_samples_leaf=0.12,\n",
        "        random_state=0,\n",
        "        n_jobs=-1,\n",
        "        oob_score=True,\n",
        "        bootstrap=True,\n",
        "        )),\n",
        "    ('knn', KNeighborsClassifier(n_neighbors=10, weights='distance',\n",
        "     metric='manhattan', algorithm='auto')),\n",
        "    ('gnb', GaussianNB(var_smoothing=1e-09)),\n",
        "    ('lvq', MLPClassifier(\n",
        "        hidden_layer_sizes=(10, ),\n",
        "        activation='relu',\n",
        "        solver='adam',\n",
        "        alpha=0.05,\n",
        "        learning_rate='constant',\n",
        "        random_state=0,\n",
        "        )),\n",
        "    ('svm', SVC(\n",
        "        C=100,\n",
        "        gamma=0.001,\n",
        "        kernel='rbf',\n",
        "        random_state=0,\n",
        "        probability=True,\n",
        "        decision_function_shape='ovo',\n",
        "        shrinking=True,\n",
        "        )),\n",
        "    ])\n",
        "\n",
        "# Fit the classifier to the training data\n",
        "\n",
        "vc.fit(X_train, y_train)\n",
        "\n",
        "# Evaluate the test set predictions\n",
        "\n",
        "y_pred = vc.predict(X_test)\n",
        "\n",
        "# Calculate accuracy score\n",
        "\n",
        "accuracy = accuracy_score(y_test, y_pred)\n",
        "print('Accuracy: {:.2f}%'.format(accuracy * 100))\n"
      ],
      "metadata": {
        "id": "eAntLKnofeIr",
        "colab": {
          "base_uri": "https://localhost:8080/"
        },
        "outputId": "25a5a28e-b678-4834-a8e5-4fc805a148b8"
      },
      "execution_count": 23,
      "outputs": [
        {
          "output_type": "stream",
          "name": "stdout",
          "text": [
            "Accuracy: 91.43%\n"
          ]
        }
      ]
    }
  ]
}