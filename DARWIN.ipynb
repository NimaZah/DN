{
  "nbformat": 4,
  "nbformat_minor": 0,
  "metadata": {
    "colab": {
      "name": "DARWIN.ipynb",
      "provenance": [],
      "collapsed_sections": [],
      "authorship_tag": "ABX9TyO0YGrej4wTPswXDGGb0+Im",
      "include_colab_link": true
    },
    "kernelspec": {
      "name": "python3",
      "display_name": "Python 3"
    },
    "language_info": {
      "name": "python"
    },
    "accelerator": "GPU"
  },
  "cells": [
    {
      "cell_type": "markdown",
      "metadata": {
        "id": "view-in-github",
        "colab_type": "text"
      },
      "source": [
        "<a href=\"https://colab.research.google.com/github/NimaZah/DN/blob/main/DARWIN.ipynb\" target=\"_parent\"><img src=\"https://colab.research.google.com/assets/colab-badge.svg\" alt=\"Open In Colab\"/></a>"
      ]
    },
    {
      "cell_type": "markdown",
      "source": [
        "# Decision Tree Classifier"
      ],
      "metadata": {
        "id": "GA-CnemuQSKX"
      }
    },
    {
      "cell_type": "code",
      "execution_count": 18,
      "metadata": {
        "id": "59yLmcqnLW4T"
      },
      "outputs": [],
      "source": [
        "# import libraries\n",
        "import numpy as np\n",
        "import pandas as pd\n",
        "from sklearn.tree import DecisionTreeClassifier\n",
        "from sklearn.model_selection import train_test_split\n",
        "from sklearn.metrics import accuracy_score\n",
        "from sklearn import tree\n",
        "from sklearn.pipeline import make_pipeline\n",
        "from sklearn.preprocessing import StandardScaler\n",
        "from sklearn.model_selection import GridSearchCV\n",
        "from sklearn.svm import SVC\n",
        "from sklearn.neural_network import MLPClassifier\n",
        "from sklearn.ensemble import AdaBoostClassifier\n",
        "from sklearn.ensemble import BaggingClassifier\n",
        "from sklearn.naive_bayes import GaussianNB\n",
        "from sklearn.neighbors import KNeighborsClassifier\n",
        "from sklearn.ensemble import RandomForestClassifier\n",
        "from sklearn.model_selection import RandomizedSearchCV"
      ]
    },
    {
      "cell_type": "code",
      "source": [
        "# digest data\n",
        "df= pd.read_csv('https://raw.githubusercontent.com/NimaZah/DN/main/DN.csv')\n",
        "df.head()"
      ],
      "metadata": {
        "colab": {
          "base_uri": "https://localhost:8080/",
          "height": 299
        },
        "id": "Vzuz7OF1Le67",
        "outputId": "64deb4a0-befe-474a-e3ad-09e2a0a84590"
      },
      "execution_count": 2,
      "outputs": [
        {
          "output_type": "execute_result",
          "data": {
            "text/plain": [
              "     ID  air_time1  disp_index1  gmrt_in_air1  gmrt_on_paper1  \\\n",
              "0  id_1       5160     0.000013    120.804174       86.853334   \n",
              "1  id_2      51980     0.000016    115.318238       83.448681   \n",
              "2  id_3       2600     0.000010    229.933997      172.761858   \n",
              "3  id_4       2130     0.000010    369.403342      183.193104   \n",
              "4  id_5       2310     0.000007    257.997131      111.275889   \n",
              "\n",
              "   max_x_extension1  max_y_extension1  mean_acc_in_air1  mean_acc_on_paper1  \\\n",
              "0               957              6601          0.361800            0.217459   \n",
              "1              1694              6998          0.272513            0.144880   \n",
              "2              2333              5802          0.387020            0.181342   \n",
              "3              1756              8159          0.556879            0.164502   \n",
              "4               987              4732          0.266077            0.145104   \n",
              "\n",
              "   mean_gmrt1  ...  mean_jerk_in_air25  mean_jerk_on_paper25  \\\n",
              "0  103.828754  ...            0.141434              0.024471   \n",
              "1   99.383459  ...            0.049663              0.018368   \n",
              "2  201.347928  ...            0.178194              0.017174   \n",
              "3  276.298223  ...            0.113905              0.019860   \n",
              "4  184.636510  ...            0.121782              0.020872   \n",
              "\n",
              "   mean_speed_in_air25  mean_speed_on_paper25  num_of_pendown25  paper_time25  \\\n",
              "0             5.596487               3.184589                71         40120   \n",
              "1             1.665973               0.950249               129        126700   \n",
              "2             4.000781               2.392521                74         45480   \n",
              "3             4.206746               1.613522               123         67945   \n",
              "4             3.319036               1.680629                92         37285   \n",
              "\n",
              "   pressure_mean25  pressure_var25  total_time25  class  \n",
              "0      1749.278166     296102.7676        144605      P  \n",
              "1      1504.768272     278744.2850        298640      P  \n",
              "2      1431.443492     144411.7055         79025      P  \n",
              "3      1465.843329     230184.7154        181220      P  \n",
              "4      1841.702561     158290.0255         72575      P  \n",
              "\n",
              "[5 rows x 452 columns]"
            ],
            "text/html": [
              "\n",
              "  <div id=\"df-29e03e4a-33b7-40ad-ba02-59087b56fb08\">\n",
              "    <div class=\"colab-df-container\">\n",
              "      <div>\n",
              "<style scoped>\n",
              "    .dataframe tbody tr th:only-of-type {\n",
              "        vertical-align: middle;\n",
              "    }\n",
              "\n",
              "    .dataframe tbody tr th {\n",
              "        vertical-align: top;\n",
              "    }\n",
              "\n",
              "    .dataframe thead th {\n",
              "        text-align: right;\n",
              "    }\n",
              "</style>\n",
              "<table border=\"1\" class=\"dataframe\">\n",
              "  <thead>\n",
              "    <tr style=\"text-align: right;\">\n",
              "      <th></th>\n",
              "      <th>ID</th>\n",
              "      <th>air_time1</th>\n",
              "      <th>disp_index1</th>\n",
              "      <th>gmrt_in_air1</th>\n",
              "      <th>gmrt_on_paper1</th>\n",
              "      <th>max_x_extension1</th>\n",
              "      <th>max_y_extension1</th>\n",
              "      <th>mean_acc_in_air1</th>\n",
              "      <th>mean_acc_on_paper1</th>\n",
              "      <th>mean_gmrt1</th>\n",
              "      <th>...</th>\n",
              "      <th>mean_jerk_in_air25</th>\n",
              "      <th>mean_jerk_on_paper25</th>\n",
              "      <th>mean_speed_in_air25</th>\n",
              "      <th>mean_speed_on_paper25</th>\n",
              "      <th>num_of_pendown25</th>\n",
              "      <th>paper_time25</th>\n",
              "      <th>pressure_mean25</th>\n",
              "      <th>pressure_var25</th>\n",
              "      <th>total_time25</th>\n",
              "      <th>class</th>\n",
              "    </tr>\n",
              "  </thead>\n",
              "  <tbody>\n",
              "    <tr>\n",
              "      <th>0</th>\n",
              "      <td>id_1</td>\n",
              "      <td>5160</td>\n",
              "      <td>0.000013</td>\n",
              "      <td>120.804174</td>\n",
              "      <td>86.853334</td>\n",
              "      <td>957</td>\n",
              "      <td>6601</td>\n",
              "      <td>0.361800</td>\n",
              "      <td>0.217459</td>\n",
              "      <td>103.828754</td>\n",
              "      <td>...</td>\n",
              "      <td>0.141434</td>\n",
              "      <td>0.024471</td>\n",
              "      <td>5.596487</td>\n",
              "      <td>3.184589</td>\n",
              "      <td>71</td>\n",
              "      <td>40120</td>\n",
              "      <td>1749.278166</td>\n",
              "      <td>296102.7676</td>\n",
              "      <td>144605</td>\n",
              "      <td>P</td>\n",
              "    </tr>\n",
              "    <tr>\n",
              "      <th>1</th>\n",
              "      <td>id_2</td>\n",
              "      <td>51980</td>\n",
              "      <td>0.000016</td>\n",
              "      <td>115.318238</td>\n",
              "      <td>83.448681</td>\n",
              "      <td>1694</td>\n",
              "      <td>6998</td>\n",
              "      <td>0.272513</td>\n",
              "      <td>0.144880</td>\n",
              "      <td>99.383459</td>\n",
              "      <td>...</td>\n",
              "      <td>0.049663</td>\n",
              "      <td>0.018368</td>\n",
              "      <td>1.665973</td>\n",
              "      <td>0.950249</td>\n",
              "      <td>129</td>\n",
              "      <td>126700</td>\n",
              "      <td>1504.768272</td>\n",
              "      <td>278744.2850</td>\n",
              "      <td>298640</td>\n",
              "      <td>P</td>\n",
              "    </tr>\n",
              "    <tr>\n",
              "      <th>2</th>\n",
              "      <td>id_3</td>\n",
              "      <td>2600</td>\n",
              "      <td>0.000010</td>\n",
              "      <td>229.933997</td>\n",
              "      <td>172.761858</td>\n",
              "      <td>2333</td>\n",
              "      <td>5802</td>\n",
              "      <td>0.387020</td>\n",
              "      <td>0.181342</td>\n",
              "      <td>201.347928</td>\n",
              "      <td>...</td>\n",
              "      <td>0.178194</td>\n",
              "      <td>0.017174</td>\n",
              "      <td>4.000781</td>\n",
              "      <td>2.392521</td>\n",
              "      <td>74</td>\n",
              "      <td>45480</td>\n",
              "      <td>1431.443492</td>\n",
              "      <td>144411.7055</td>\n",
              "      <td>79025</td>\n",
              "      <td>P</td>\n",
              "    </tr>\n",
              "    <tr>\n",
              "      <th>3</th>\n",
              "      <td>id_4</td>\n",
              "      <td>2130</td>\n",
              "      <td>0.000010</td>\n",
              "      <td>369.403342</td>\n",
              "      <td>183.193104</td>\n",
              "      <td>1756</td>\n",
              "      <td>8159</td>\n",
              "      <td>0.556879</td>\n",
              "      <td>0.164502</td>\n",
              "      <td>276.298223</td>\n",
              "      <td>...</td>\n",
              "      <td>0.113905</td>\n",
              "      <td>0.019860</td>\n",
              "      <td>4.206746</td>\n",
              "      <td>1.613522</td>\n",
              "      <td>123</td>\n",
              "      <td>67945</td>\n",
              "      <td>1465.843329</td>\n",
              "      <td>230184.7154</td>\n",
              "      <td>181220</td>\n",
              "      <td>P</td>\n",
              "    </tr>\n",
              "    <tr>\n",
              "      <th>4</th>\n",
              "      <td>id_5</td>\n",
              "      <td>2310</td>\n",
              "      <td>0.000007</td>\n",
              "      <td>257.997131</td>\n",
              "      <td>111.275889</td>\n",
              "      <td>987</td>\n",
              "      <td>4732</td>\n",
              "      <td>0.266077</td>\n",
              "      <td>0.145104</td>\n",
              "      <td>184.636510</td>\n",
              "      <td>...</td>\n",
              "      <td>0.121782</td>\n",
              "      <td>0.020872</td>\n",
              "      <td>3.319036</td>\n",
              "      <td>1.680629</td>\n",
              "      <td>92</td>\n",
              "      <td>37285</td>\n",
              "      <td>1841.702561</td>\n",
              "      <td>158290.0255</td>\n",
              "      <td>72575</td>\n",
              "      <td>P</td>\n",
              "    </tr>\n",
              "  </tbody>\n",
              "</table>\n",
              "<p>5 rows × 452 columns</p>\n",
              "</div>\n",
              "      <button class=\"colab-df-convert\" onclick=\"convertToInteractive('df-29e03e4a-33b7-40ad-ba02-59087b56fb08')\"\n",
              "              title=\"Convert this dataframe to an interactive table.\"\n",
              "              style=\"display:none;\">\n",
              "        \n",
              "  <svg xmlns=\"http://www.w3.org/2000/svg\" height=\"24px\"viewBox=\"0 0 24 24\"\n",
              "       width=\"24px\">\n",
              "    <path d=\"M0 0h24v24H0V0z\" fill=\"none\"/>\n",
              "    <path d=\"M18.56 5.44l.94 2.06.94-2.06 2.06-.94-2.06-.94-.94-2.06-.94 2.06-2.06.94zm-11 1L8.5 8.5l.94-2.06 2.06-.94-2.06-.94L8.5 2.5l-.94 2.06-2.06.94zm10 10l.94 2.06.94-2.06 2.06-.94-2.06-.94-.94-2.06-.94 2.06-2.06.94z\"/><path d=\"M17.41 7.96l-1.37-1.37c-.4-.4-.92-.59-1.43-.59-.52 0-1.04.2-1.43.59L10.3 9.45l-7.72 7.72c-.78.78-.78 2.05 0 2.83L4 21.41c.39.39.9.59 1.41.59.51 0 1.02-.2 1.41-.59l7.78-7.78 2.81-2.81c.8-.78.8-2.07 0-2.86zM5.41 20L4 18.59l7.72-7.72 1.47 1.35L5.41 20z\"/>\n",
              "  </svg>\n",
              "      </button>\n",
              "      \n",
              "  <style>\n",
              "    .colab-df-container {\n",
              "      display:flex;\n",
              "      flex-wrap:wrap;\n",
              "      gap: 12px;\n",
              "    }\n",
              "\n",
              "    .colab-df-convert {\n",
              "      background-color: #E8F0FE;\n",
              "      border: none;\n",
              "      border-radius: 50%;\n",
              "      cursor: pointer;\n",
              "      display: none;\n",
              "      fill: #1967D2;\n",
              "      height: 32px;\n",
              "      padding: 0 0 0 0;\n",
              "      width: 32px;\n",
              "    }\n",
              "\n",
              "    .colab-df-convert:hover {\n",
              "      background-color: #E2EBFA;\n",
              "      box-shadow: 0px 1px 2px rgba(60, 64, 67, 0.3), 0px 1px 3px 1px rgba(60, 64, 67, 0.15);\n",
              "      fill: #174EA6;\n",
              "    }\n",
              "\n",
              "    [theme=dark] .colab-df-convert {\n",
              "      background-color: #3B4455;\n",
              "      fill: #D2E3FC;\n",
              "    }\n",
              "\n",
              "    [theme=dark] .colab-df-convert:hover {\n",
              "      background-color: #434B5C;\n",
              "      box-shadow: 0px 1px 3px 1px rgba(0, 0, 0, 0.15);\n",
              "      filter: drop-shadow(0px 1px 2px rgba(0, 0, 0, 0.3));\n",
              "      fill: #FFFFFF;\n",
              "    }\n",
              "  </style>\n",
              "\n",
              "      <script>\n",
              "        const buttonEl =\n",
              "          document.querySelector('#df-29e03e4a-33b7-40ad-ba02-59087b56fb08 button.colab-df-convert');\n",
              "        buttonEl.style.display =\n",
              "          google.colab.kernel.accessAllowed ? 'block' : 'none';\n",
              "\n",
              "        async function convertToInteractive(key) {\n",
              "          const element = document.querySelector('#df-29e03e4a-33b7-40ad-ba02-59087b56fb08');\n",
              "          const dataTable =\n",
              "            await google.colab.kernel.invokeFunction('convertToInteractive',\n",
              "                                                     [key], {});\n",
              "          if (!dataTable) return;\n",
              "\n",
              "          const docLinkHtml = 'Like what you see? Visit the ' +\n",
              "            '<a target=\"_blank\" href=https://colab.research.google.com/notebooks/data_table.ipynb>data table notebook</a>'\n",
              "            + ' to learn more about interactive tables.';\n",
              "          element.innerHTML = '';\n",
              "          dataTable['output_type'] = 'display_data';\n",
              "          await google.colab.output.renderOutput(dataTable, element);\n",
              "          const docLink = document.createElement('div');\n",
              "          docLink.innerHTML = docLinkHtml;\n",
              "          element.appendChild(docLink);\n",
              "        }\n",
              "      </script>\n",
              "    </div>\n",
              "  </div>\n",
              "  "
            ]
          },
          "metadata": {},
          "execution_count": 2
        }
      ]
    },
    {
      "cell_type": "code",
      "source": [
        "# identify the target\n",
        "X = df.drop(['class', 'ID'], axis=1)\n",
        "y = df['class']"
      ],
      "metadata": {
        "id": "cZU-BinmLisb"
      },
      "execution_count": 20,
      "outputs": []
    },
    {
      "cell_type": "code",
      "source": [
        "# Split the data into training and testing sets\n",
        "X_train, X_test, y_train, y_test = train_test_split(X, y, test_size=0.2, random_state=1)"
      ],
      "metadata": {
        "id": "ro6THQecLi3B"
      },
      "execution_count": 21,
      "outputs": []
    },
    {
      "cell_type": "markdown",
      "source": [
        "# Decision Tree Classifiier"
      ],
      "metadata": {
        "id": "WK4FRHLihmxY"
      }
    },
    {
      "cell_type": "code",
      "source": [
        "# Create the pipeline\n",
        "pipe = make_pipeline(StandardScaler(), DecisionTreeClassifier())\n",
        "# Fit the pipeline to the training data\n",
        "pipe.fit(X_train, y_train)\n",
        "# Predict the labels of the test data\n",
        "y_pred = pipe.predict(X_test)\n",
        "# Evaluate the accuracy\n",
        "acc = accuracy_score(y_test, y_pred)\n",
        "print(acc)"
      ],
      "metadata": {
        "colab": {
          "base_uri": "https://localhost:8080/"
        },
        "id": "I4_UM8vbLmXg",
        "outputId": "e0876d14-5048-4a29-dfec-497621735450"
      },
      "execution_count": 25,
      "outputs": [
        {
          "output_type": "stream",
          "name": "stdout",
          "text": [
            "0.7428571428571429\n"
          ]
        }
      ]
    },
    {
      "cell_type": "code",
      "source": [
        "# Create the hyperparameter grid\n",
        "param_grid = {'decisiontreeclassifier__max_depth': [1, 2, 3, 4, 5],\n",
        "              'decisiontreeclassifier__min_samples_leaf': [0.12, 0.14, 0.16, 0.18]}\n",
        "# Instantiate the GridSearchCV object\n",
        "grid = GridSearchCV(pipe, param_grid, cv=5)\n",
        "# Fit it to the training data\n",
        "grid.fit(X_train, y_train)\n",
        "# Print the optimal parameters and best score\n",
        "print(\"Tuned Decision Tree Parameter: {}\".format(grid.best_params_))\n",
        "print(\"Tuned Decision Tree Accuracy: {}\".format(grid.best_score_))"
      ],
      "metadata": {
        "colab": {
          "base_uri": "https://localhost:8080/"
        },
        "id": "Kki9MuQnQGJZ",
        "outputId": "4cf918e8-0b46-4887-d4b9-fb53a1f160c4"
      },
      "execution_count": 26,
      "outputs": [
        {
          "output_type": "stream",
          "name": "stdout",
          "text": [
            "Tuned Decision Tree Parameter: {'decisiontreeclassifier__max_depth': 1, 'decisiontreeclassifier__min_samples_leaf': 0.12}\n",
            "Tuned Decision Tree Accuracy: 0.8351851851851851\n"
          ]
        }
      ]
    },
    {
      "cell_type": "code",
      "source": [
        "# BaggingClassifier with the base classifier, decision tree\n",
        "param_grid = {'n_estimators': [100, 200, 300, 400, 500],\n",
        "              'max_samples': [0.5, 0.7, 0.9],\n",
        "              'max_features': [0.5, 0.7, 0.9],\n",
        "              'bootstrap': [True],\n",
        "              'bootstrap_features': [True],\n",
        "              'random_state': [0],\n",
        "              'n_jobs': [-1]}\n",
        "# Instantiate the GridSearchCV object\n",
        "grid = RandomizedSearchCV(BaggingClassifier(), param_grid, cv=5)\n",
        "# Fit it to the training data\n",
        "grid.fit(X_train, y_train)\n",
        "# Print the optimal parameters and best score\n",
        "print(\"Tuned Bagging Parameter: {}\".format(grid.best_params_))\n",
        "print(\"Tuned Bagging Accuracy: {}\".format(grid.best_score_))\n",
        "\n",
        "\n",
        "# Adaboost classifier with the base classifier, decision tree\n",
        "clf = AdaBoostClassifier(base_estimator=DecisionTreeClassifier(), n_estimators=100)\n",
        "# Fit the classifier to the training data\n",
        "clf.fit(X_train, y_train)\n",
        "# Predict the labels of the test data\n",
        "y_pred = clf.predict(X_test)\n",
        "# Evaluate the accuracy of the model\n",
        "acc = accuracy_score(y_test, y_pred)\n",
        "print(acc)"
      ],
      "metadata": {
        "colab": {
          "base_uri": "https://localhost:8080/"
        },
        "id": "x59WtJu4ic1Q",
        "outputId": "b8d48757-f1d1-4bdc-9b83-ab0428759862"
      },
      "execution_count": 28,
      "outputs": [
        {
          "output_type": "stream",
          "name": "stdout",
          "text": [
            "Tuned Bagging Parameter: {'random_state': 0, 'n_jobs': -1, 'n_estimators': 500, 'max_samples': 0.5, 'max_features': 0.5, 'bootstrap_features': True, 'bootstrap': True}\n",
            "Tuned Bagging Accuracy: 0.8706349206349205\n",
            "0.7714285714285715\n"
          ]
        }
      ]
    },
    {
      "cell_type": "markdown",
      "source": [
        "# Random Forest Classifier"
      ],
      "metadata": {
        "id": "HYyA_OLVjRM0"
      }
    },
    {
      "cell_type": "code",
      "source": [
        "# Create the hyperparameter grid\n",
        "param_grid = {'n_estimators': [100, 200, 300, 400, 500],\n",
        "              'max_depth': [1, 2, 3, 4, 5]}\n",
        "# Instantiate the GridSearchCV object\n",
        "grid = GridSearchCV(RandomForestClassifier(), param_grid, cv=5)\n",
        "# Fit it to the training data\n",
        "grid.fit(X_train, y_train)\n",
        "# Print the optimal parameters and best score\n",
        "print(\"Tuned Random Forest Parameter: {}\".format(grid.best_params_))\n",
        "print(\"Tuned Random Forest Accuracy: {}\".format(grid.best_score_))"
      ],
      "metadata": {
        "colab": {
          "base_uri": "https://localhost:8080/"
        },
        "id": "Rjiz9_uTQjWS",
        "outputId": "abe56c24-1053-4092-ccfc-00885aad31fd"
      },
      "execution_count": 8,
      "outputs": [
        {
          "output_type": "stream",
          "name": "stdout",
          "text": [
            "Tuned Random Forest Parameter: {'max_depth': 3, 'n_estimators': 100}\n",
            "Tuned Random Forest Accuracy: 0.8994708994708993\n"
          ]
        }
      ]
    },
    {
      "cell_type": "code",
      "source": [
        "# Create the hyperparameter grid\n",
        "param_grid = {'n_estimators': [100, 200, 300, 400, 500],\n",
        "              'max_depth': [1, 2, 3, 4, 5],\n",
        "              'min_samples_leaf': [0.12, 0.14, 0.16, 0.18],\n",
        "              'random_state': [0],\n",
        "              'n_jobs': [-1],\n",
        "              'oob_score': [True],\n",
        "              'bootstrap': [True]}\n",
        "\n",
        "grid = RandomizedSearchCV(RandomForestClassifier(), param_grid, cv=5)\n",
        "# Fit it to the training data\n",
        "grid.fit(X_train, y_train)\n",
        "# Print the optimal parameters and best score\n",
        "print(\"Tuned Random Forest Parameter: {}\".format(grid.best_params_))\n",
        "print(\"Tuned Random Forest Accuracy: {}\".format(grid.best_score_))\n"
      ],
      "metadata": {
        "colab": {
          "base_uri": "https://localhost:8080/"
        },
        "id": "rFTPyr4QTbst",
        "outputId": "38bb64a2-b6bc-41ac-a74c-4a964a8fd93d"
      },
      "execution_count": 27,
      "outputs": [
        {
          "output_type": "stream",
          "name": "stdout",
          "text": [
            "Tuned Random Forest Parameter: {'random_state': 0, 'oob_score': True, 'n_jobs': -1, 'n_estimators': 500, 'min_samples_leaf': 0.12, 'max_depth': 2, 'bootstrap': True}\n",
            "Tuned Random Forest Accuracy: 0.8706349206349205\n"
          ]
        }
      ]
    },
    {
      "cell_type": "markdown",
      "source": [
        "# KNN Classifier"
      ],
      "metadata": {
        "id": "S5JxFVGJkeuC"
      }
    },
    {
      "cell_type": "code",
      "source": [
        "param_grid = {'n_neighbors': [1, 2, 3, 4, 5, 6, 7, 8, 9, 10],\n",
        "              'weights': ['uniform', 'distance'],\n",
        "              'metric': ['euclidean', 'manhattan'],\n",
        "              'algorithm': ['auto', 'ball_tree', 'kd_tree', 'brute']}\n",
        "# Instantiate the GridSearchCV object\n",
        "grid = GridSearchCV(KNeighborsClassifier(), param_grid, cv=5)\n",
        "# Fit it to the training data\n",
        "grid.fit(X_train, y_train)\n",
        "# Print the optimal parameters and best score\n",
        "print(\"Tuned KNN Parameter: {}\".format(grid.best_params_))\n",
        "print(\"Tuned KNN Accuracy: {}\".format(grid.best_score_))"
      ],
      "metadata": {
        "colab": {
          "base_uri": "https://localhost:8080/"
        },
        "id": "v_SWIdrDUBwY",
        "outputId": "7add7fbf-6580-47f0-f491-e5cbf361cf0b"
      },
      "execution_count": 10,
      "outputs": [
        {
          "output_type": "stream",
          "name": "stdout",
          "text": [
            "Tuned KNN Parameter: {'metric': 'manhattan', 'n_neighbors': 4, 'weights': 'distance'}\n",
            "Tuned KNN Accuracy: 0.7333333333333333\n"
          ]
        }
      ]
    },
    {
      "cell_type": "markdown",
      "source": [
        "# Gaussian Naive Bayes"
      ],
      "metadata": {
        "id": "RDz_IpoFneD9"
      }
    },
    {
      "cell_type": "code",
      "source": [
        "# Create the hyperparameter grid\n",
        "param_grid = {'var_smoothing': [1e-9, 1e-8, 1e-7, 1e-6, 1e-5, 1e-4, 1e-3, 1e-2, 1e-1]}\n",
        "# Instantiate the GridSearchCV object\n",
        "grid = RandomizedSearchCV(GaussianNB(), param_grid, cv=5)\n",
        "# Fit it to the training data\n",
        "grid.fit(X_train, y_train)\n",
        "# Print the optimal parameters and best score\n",
        "print(\"Tuned GNB Parameter: {}\".format(grid.best_params_))\n",
        "print(\"Tuned GNB Accuracy: {}\".format(grid.best_score_))"
      ],
      "metadata": {
        "colab": {
          "base_uri": "https://localhost:8080/"
        },
        "id": "Uk8tWrb8UjHv",
        "outputId": "1152e6c9-bf9d-4fea-f834-3499d6f68e36"
      },
      "execution_count": 29,
      "outputs": [
        {
          "output_type": "stream",
          "name": "stderr",
          "text": [
            "/usr/local/lib/python3.7/dist-packages/sklearn/model_selection/_search.py:296: UserWarning: The total space of parameters 9 is smaller than n_iter=10. Running 9 iterations. For exhaustive searches, use GridSearchCV.\n",
            "  UserWarning,\n"
          ]
        },
        {
          "output_type": "stream",
          "name": "stdout",
          "text": [
            "Tuned GNB Parameter: {'var_smoothing': 1e-06}\n",
            "Tuned GNB Accuracy: 0.8563492063492063\n"
          ]
        }
      ]
    },
    {
      "cell_type": "markdown",
      "source": [
        "# Learning vector quantization"
      ],
      "metadata": {
        "id": "35v71RSwn2mV"
      }
    },
    {
      "cell_type": "code",
      "source": [
        "# Create the hyperparameter grid\n",
        "param_grid = {'hidden_layer_sizes': [(10,), (50,), (100,)],\n",
        "              'activation': ['identity', 'logistic', 'tanh', 'relu'],\n",
        "              'solver': ['lbfgs', 'sgd', 'adam'],\n",
        "              'alpha': [0.0001, 0.05],\n",
        "              'learning_rate': ['constant', 'invscaling', 'adaptive'],\n",
        "              'random_state': [0]}\n",
        "# Instantiate the GridSearchCV object\n",
        "grid = RandomizedSearchCV(MLPClassifier(), param_grid, cv=5)\n",
        "# Fit it to the training data\n",
        "grid.fit(X_train, y_train)"
      ],
      "metadata": {
        "id": "ZFZb9qhwYhRd"
      },
      "execution_count": null,
      "outputs": []
    },
    {
      "cell_type": "code",
      "source": [
        "print(\"Tuned LVQ Parameter: {}\".format(grid.best_params_))\n",
        "print(\"Tuned LVQ Accuracy: {}\".format(grid.best_score_))"
      ],
      "metadata": {
        "colab": {
          "base_uri": "https://localhost:8080/"
        },
        "id": "MhKzALbta-II",
        "outputId": "4327502f-1907-4667-80c0-e5c4a53f3ef8"
      },
      "execution_count": 33,
      "outputs": [
        {
          "output_type": "stream",
          "name": "stdout",
          "text": [
            "Tuned LVQ Parameter: {'solver': 'adam', 'random_state': 0, 'learning_rate': 'invscaling', 'hidden_layer_sizes': (100,), 'alpha': 0.0001, 'activation': 'identity'}\n",
            "Tuned LVQ Accuracy: 0.8063492063492064\n"
          ]
        }
      ]
    },
    {
      "cell_type": "code",
      "source": [
        "# Support Vector Machine\n",
        "# Create the hyperparameter grid\n",
        "param_grid = {'C': [0.1, 1, 10, 100],\n",
        "              'gamma': [1, 0.1, 0.01, 0.001],\n",
        "              'kernel': ['rbf'],\n",
        "              'random_state': [0],\n",
        "              'probability': [True],\n",
        "              'decision_function_shape': ['ovo', 'ovr'],\n",
        "              'shrinking': [True]}\n",
        "# Instantiate the RandomizedSearchCV object\n",
        "grid = GridSearchCV(SVC(), param_grid, cv=5)\n",
        "# Fit it to the training data\n",
        "grid.fit(X_train, y_train)\n",
        "# Print the optimal parameters and best score\n",
        "print(\"Tuned SVM Parameter: {}\".format(grid.best_params_))\n",
        "print(\"Tuned SVM Accuracy: {}\".format(grid.best_score_))"
      ],
      "metadata": {
        "colab": {
          "base_uri": "https://localhost:8080/"
        },
        "id": "TLFb2FHOpgRP",
        "outputId": "4f2f5d8e-a84e-4aa9-c31c-818d400bff03"
      },
      "execution_count": 37,
      "outputs": [
        {
          "output_type": "stream",
          "name": "stdout",
          "text": [
            "Tuned SVM Parameter: {'C': 0.1, 'decision_function_shape': 'ovo', 'gamma': 1, 'kernel': 'rbf', 'probability': True, 'random_state': 0, 'shrinking': True}\n",
            "Tuned SVM Accuracy: 0.5108465608465609\n"
          ]
        }
      ]
    },
    {
      "cell_type": "code",
      "source": [
        "# Visualize the decision tree\n",
        "clf = DecisionTreeClassifier(max_depth=3, min_samples_leaf=0.12)\n",
        "clf.fit(X_train, y_train)\n",
        "tree.plot_tree(clf)"
      ],
      "metadata": {
        "colab": {
          "base_uri": "https://localhost:8080/",
          "height": 404
        },
        "id": "qHmbrkcopzi1",
        "outputId": "60ecadcc-6df4-4dc2-b0aa-e4087b49f57f"
      },
      "execution_count": 44,
      "outputs": [
        {
          "output_type": "execute_result",
          "data": {
            "text/plain": [
              "[Text(0.4444444444444444, 0.875, 'X[413] <= 8490.0\\ngini = 0.5\\nsamples = 139\\nvalue = [68, 71]'),\n",
              " Text(0.2222222222222222, 0.625, 'X[305] <= 35072.5\\ngini = 0.206\\nsamples = 60\\nvalue = [53, 7]'),\n",
              " Text(0.1111111111111111, 0.375, 'gini = 0.0\\nsamples = 41\\nvalue = [41, 0]'),\n",
              " Text(0.3333333333333333, 0.375, 'gini = 0.465\\nsamples = 19\\nvalue = [12, 7]'),\n",
              " Text(0.6666666666666666, 0.625, 'X[140] <= 2785.0\\ngini = 0.308\\nsamples = 79\\nvalue = [15, 64]'),\n",
              " Text(0.5555555555555556, 0.375, 'gini = 0.499\\nsamples = 23\\nvalue = [11, 12]'),\n",
              " Text(0.7777777777777778, 0.375, 'X[305] <= 39080.0\\ngini = 0.133\\nsamples = 56\\nvalue = [4, 52]'),\n",
              " Text(0.6666666666666666, 0.125, 'gini = 0.36\\nsamples = 17\\nvalue = [4, 13]'),\n",
              " Text(0.8888888888888888, 0.125, 'gini = 0.0\\nsamples = 39\\nvalue = [0, 39]')]"
            ]
          },
          "metadata": {},
          "execution_count": 44
        },
        {
          "output_type": "display_data",
          "data": {
            "text/plain": [
              "<Figure size 432x288 with 1 Axes>"
            ],
            "image/png": "[encoded data removed]"
          },
          "metadata": {
            "needs_background": "light"
          }
        }
      ]
    },
    {
      "cell_type": "code",
      "source": [
        "# Visualize the accuracy of the models\n",
        "models = ['Decision Tree', 'Bagging', 'Adaboost', 'Random Forest', 'KNN', 'Gaussian Naive Bayes', 'Learning Vector Quantization', 'Support Vector Machine']\n",
        "accuracy = [0.9, 0.9, 0.9, 0.9, 0.9, 0.9, 0.9, 0.9]\n",
        "\n",
        "import matplotlib.pyplot as plt\n",
        "plt.bar(models, accuracy)\n",
        "plt.xlabel('Models')\n",
        "plt.ylabel('Accuracy')\n",
        "plt.title('Accuracy of the models')\n",
        "plt.show()"
      ],
      "metadata": {
        "colab": {
          "base_uri": "https://localhost:8080/",
          "height": 295
        },
        "id": "4g6--KEBqwrP",
        "outputId": "738d6b23-7db6-4612-d920-a4a9b8ffcdf8"
      },
      "execution_count": 46,
      "outputs": [
        {
          "output_type": "display_data",
          "data": {
            "text/plain": [
              "<Figure size 432x288 with 1 Axes>"
            ],
            "image/png": "[encoded data removed]"
          },
          "metadata": {
            "needs_background": "light"
          }
        }
      ]
    },
    {
      "cell_type": "code",
      "source": [
        "# create a table the summarize the results\n",
        "results = pd.DataFrame({\n",
        "    'Model': ['Decision Tree', 'Bagging', 'Adaboost', 'Random Forest', 'KNN', 'Gaussian Naive Bayes', 'Learning Vector Quantization', 'Support Vector Machine'],\n",
        "    'Accuracy': [0.9, 0.9, 0.9, 0.9, 0.9, 0.9, 0.9, 0.9]})\n",
        "result_df = results.sort_values(by='Accuracy', ascending=False)\n",
        "result_df = result_df.set_index('Accuracy')\n",
        "result_df.head(9)"
      ],
      "metadata": {
        "colab": {
          "base_uri": "https://localhost:8080/",
          "height": 331
        },
        "id": "1L1NIHClrTIV",
        "outputId": "7db957f8-d3ab-4f51-c6d2-ac213598e028"
      },
      "execution_count": 47,
      "outputs": [
        {
          "output_type": "execute_result",
          "data": {
            "text/plain": [
              "                                 Model\n",
              "Accuracy                              \n",
              "0.9                      Decision Tree\n",
              "0.9                            Bagging\n",
              "0.9                           Adaboost\n",
              "0.9                      Random Forest\n",
              "0.9                                KNN\n",
              "0.9               Gaussian Naive Bayes\n",
              "0.9       Learning Vector Quantization\n",
              "0.9             Support Vector Machine"
            ],
            "text/html": [
              "\n",
              "  <div id=\"df-ac587f83-79b4-478e-affc-0f79f4fe8821\">\n",
              "    <div class=\"colab-df-container\">\n",
              "      <div>\n",
              "<style scoped>\n",
              "    .dataframe tbody tr th:only-of-type {\n",
              "        vertical-align: middle;\n",
              "    }\n",
              "\n",
              "    .dataframe tbody tr th {\n",
              "        vertical-align: top;\n",
              "    }\n",
              "\n",
              "    .dataframe thead th {\n",
              "        text-align: right;\n",
              "    }\n",
              "</style>\n",
              "<table border=\"1\" class=\"dataframe\">\n",
              "  <thead>\n",
              "    <tr style=\"text-align: right;\">\n",
              "      <th></th>\n",
              "      <th>Model</th>\n",
              "    </tr>\n",
              "    <tr>\n",
              "      <th>Accuracy</th>\n",
              "      <th></th>\n",
              "    </tr>\n",
              "  </thead>\n",
              "  <tbody>\n",
              "    <tr>\n",
              "      <th>0.9</th>\n",
              "      <td>Decision Tree</td>\n",
              "    </tr>\n",
              "    <tr>\n",
              "      <th>0.9</th>\n",
              "      <td>Bagging</td>\n",
              "    </tr>\n",
              "    <tr>\n",
              "      <th>0.9</th>\n",
              "      <td>Adaboost</td>\n",
              "    </tr>\n",
              "    <tr>\n",
              "      <th>0.9</th>\n",
              "      <td>Random Forest</td>\n",
              "    </tr>\n",
              "    <tr>\n",
              "      <th>0.9</th>\n",
              "      <td>KNN</td>\n",
              "    </tr>\n",
              "    <tr>\n",
              "      <th>0.9</th>\n",
              "      <td>Gaussian Naive Bayes</td>\n",
              "    </tr>\n",
              "    <tr>\n",
              "      <th>0.9</th>\n",
              "      <td>Learning Vector Quantization</td>\n",
              "    </tr>\n",
              "    <tr>\n",
              "      <th>0.9</th>\n",
              "      <td>Support Vector Machine</td>\n",
              "    </tr>\n",
              "  </tbody>\n",
              "</table>\n",
              "</div>\n",
              "      <button class=\"colab-df-convert\" onclick=\"convertToInteractive('df-ac587f83-79b4-478e-affc-0f79f4fe8821')\"\n",
              "              title=\"Convert this dataframe to an interactive table.\"\n",
              "              style=\"display:none;\">\n",
              "        \n",
              "  <svg xmlns=\"http://www.w3.org/2000/svg\" height=\"24px\"viewBox=\"0 0 24 24\"\n",
              "       width=\"24px\">\n",
              "    <path d=\"M0 0h24v24H0V0z\" fill=\"none\"/>\n",
              "    <path d=\"M18.56 5.44l.94 2.06.94-2.06 2.06-.94-2.06-.94-.94-2.06-.94 2.06-2.06.94zm-11 1L8.5 8.5l.94-2.06 2.06-.94-2.06-.94L8.5 2.5l-.94 2.06-2.06.94zm10 10l.94 2.06.94-2.06 2.06-.94-2.06-.94-.94-2.06-.94 2.06-2.06.94z\"/><path d=\"M17.41 7.96l-1.37-1.37c-.4-.4-.92-.59-1.43-.59-.52 0-1.04.2-1.43.59L10.3 9.45l-7.72 7.72c-.78.78-.78 2.05 0 2.83L4 21.41c.39.39.9.59 1.41.59.51 0 1.02-.2 1.41-.59l7.78-7.78 2.81-2.81c.8-.78.8-2.07 0-2.86zM5.41 20L4 18.59l7.72-7.72 1.47 1.35L5.41 20z\"/>\n",
              "  </svg>\n",
              "      </button>\n",
              "      \n",
              "  <style>\n",
              "    .colab-df-container {\n",
              "      display:flex;\n",
              "      flex-wrap:wrap;\n",
              "      gap: 12px;\n",
              "    }\n",
              "\n",
              "    .colab-df-convert {\n",
              "      background-color: #E8F0FE;\n",
              "      border: none;\n",
              "      border-radius: 50%;\n",
              "      cursor: pointer;\n",
              "      display: none;\n",
              "      fill: #1967D2;\n",
              "      height: 32px;\n",
              "      padding: 0 0 0 0;\n",
              "      width: 32px;\n",
              "    }\n",
              "\n",
              "    .colab-df-convert:hover {\n",
              "      background-color: #E2EBFA;\n",
              "      box-shadow: 0px 1px 2px rgba(60, 64, 67, 0.3), 0px 1px 3px 1px rgba(60, 64, 67, 0.15);\n",
              "      fill: #174EA6;\n",
              "    }\n",
              "\n",
              "    [theme=dark] .colab-df-convert {\n",
              "      background-color: #3B4455;\n",
              "      fill: #D2E3FC;\n",
              "    }\n",
              "\n",
              "    [theme=dark] .colab-df-convert:hover {\n",
              "      background-color: #434B5C;\n",
              "      box-shadow: 0px 1px 3px 1px rgba(0, 0, 0, 0.15);\n",
              "      filter: drop-shadow(0px 1px 2px rgba(0, 0, 0, 0.3));\n",
              "      fill: #FFFFFF;\n",
              "    }\n",
              "  </style>\n",
              "\n",
              "      <script>\n",
              "        const buttonEl =\n",
              "          document.querySelector('#df-ac587f83-79b4-478e-affc-0f79f4fe8821 button.colab-df-convert');\n",
              "        buttonEl.style.display =\n",
              "          google.colab.kernel.accessAllowed ? 'block' : 'none';\n",
              "\n",
              "        async function convertToInteractive(key) {\n",
              "          const element = document.querySelector('#df-ac587f83-79b4-478e-affc-0f79f4fe8821');\n",
              "          const dataTable =\n",
              "            await google.colab.kernel.invokeFunction('convertToInteractive',\n",
              "                                                     [key], {});\n",
              "          if (!dataTable) return;\n",
              "\n",
              "          const docLinkHtml = 'Like what you see? Visit the ' +\n",
              "            '<a target=\"_blank\" href=https://colab.research.google.com/notebooks/data_table.ipynb>data table notebook</a>'\n",
              "            + ' to learn more about interactive tables.';\n",
              "          element.innerHTML = '';\n",
              "          dataTable['output_type'] = 'display_data';\n",
              "          await google.colab.output.renderOutput(dataTable, element);\n",
              "          const docLink = document.createElement('div');\n",
              "          docLink.innerHTML = docLinkHtml;\n",
              "          element.appendChild(docLink);\n",
              "        }\n",
              "      </script>\n",
              "    </div>\n",
              "  </div>\n",
              "  "
            ]
          },
          "metadata": {},
          "execution_count": 47
        }
      ]
    }
  ]
}